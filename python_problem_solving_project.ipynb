{
  "cells": [
    {
      "cell_type": "markdown",
      "metadata": {
        "id": "view-in-github",
        "colab_type": "text"
      },
      "source": [
        "<a href=\"https://colab.research.google.com/github/santhoshadicherla1234/FindTheDifferenceFiles/blob/main/python_problem_solving_project.ipynb\" target=\"_parent\"><img src=\"https://colab.research.google.com/assets/colab-badge.svg\" alt=\"Open In Colab\"/></a>"
      ]
    },
    {
      "cell_type": "markdown",
      "id": "63138f01",
      "metadata": {
        "id": "63138f01"
      },
      "source": [
        "# Problem Solving Template (change the title)\n",
        "\n",
        "_To learn how to use this template, check out the course [\"Data Structures and Algorithms in Python\"](https://jovian.ai/learn/data-structures-and-algorithms-in-python)._\n",
        "\n",
        "\n"
      ]
    },
    {
      "cell_type": "markdown",
      "id": "c59a7646",
      "metadata": {
        "id": "c59a7646"
      },
      "source": [
        "## How to run the code and save your work\n",
        "\n",
        "The recommended way to run this notebook is to click the \"Run\" button at the top of this page, and select \"Run on Binder\". This will run the notebook on [mybinder.org](https://mybinder.org), a free online service for running Jupyter notebooks.\n",
        "\n",
        "This tutorial is an executable [Jupyter notebook](https://jupyter.org). You can _run_ this tutorial and experiment with the code examples in a couple of ways: *using free online resources* (recommended) or *on your computer*.\n",
        "\n",
        "#### Option 1: Running using free online resources (1-click, recommended)\n",
        "\n",
        "The easiest way to start executing the code is to click the **Run** button at the top of this page and select **Run on Binder**. You can also select \"Run on Colab\" or \"Run on Kaggle\", but you'll need to create an account on [Google Colab](https://colab.research.google.com) or [Kaggle](https://kaggle.com) to use these platforms.\n",
        "\n",
        "\n",
        "#### Option 2: Running on your computer locally\n",
        "\n",
        "To run the code on your computer locally, you'll need to set up [Python](https://www.python.org), download the notebook and install the required libraries. We recommend using the [Conda](https://docs.conda.io/projects/conda/en/latest/user-guide/install/) distribution of Python. Click the **Run** button at the top of this page, select the **Run Locally** option, and follow the instructions.\n",
        "\n",
        "#### Saving your work\n",
        "\n",
        "Before staring the assignment, let's save a snapshot of the assignment to your [Jovian](https://jovian.ai) profile, so that you can access it later, and continue your work."
      ]
    },
    {
      "cell_type": "code",
      "execution_count": null,
      "id": "9a535539",
      "metadata": {
        "id": "9a535539"
      },
      "outputs": [],
      "source": [
        "project_name = 'finding-difference' # give it an appropriate name"
      ]
    },
    {
      "cell_type": "code",
      "execution_count": null,
      "id": "12a2ac98",
      "metadata": {
        "id": "12a2ac98"
      },
      "outputs": [],
      "source": [
        "!pip install jovian --upgrade --quiet"
      ]
    },
    {
      "cell_type": "code",
      "execution_count": null,
      "id": "4b7d858e",
      "metadata": {
        "id": "4b7d858e"
      },
      "outputs": [],
      "source": [
        "import jovian"
      ]
    },
    {
      "cell_type": "code",
      "execution_count": null,
      "id": "37cd01e7",
      "metadata": {
        "id": "37cd01e7",
        "outputId": "c00d2a77-f81a-4eeb-89ab-9236c74e4068"
      },
      "outputs": [
        {
          "data": {
            "application/javascript": [
              "window.require && require([\"base/js/namespace\"],function(Jupyter){Jupyter.notebook.save_checkpoint()})"
            ],
            "text/plain": [
              "<IPython.core.display.Javascript object>"
            ]
          },
          "metadata": {},
          "output_type": "display_data"
        },
        {
          "name": "stdout",
          "output_type": "stream",
          "text": [
            "[jovian] Attempting to save notebook..\u001b[0m\n",
            "[jovian] Updating notebook \"aakashns/python-problem-solving-template\" on https://jovian.ai/\u001b[0m\n",
            "[jovian] Uploading notebook..\u001b[0m\n",
            "[jovian] Capturing environment..\u001b[0m\n",
            "[jovian] Committed successfully! https://jovian.ai/aakashns/python-problem-solving-template\u001b[0m\n"
          ]
        },
        {
          "data": {
            "text/plain": [
              "'https://jovian.ai/aakashns/python-problem-solving-template'"
            ]
          },
          "execution_count": 9,
          "metadata": {},
          "output_type": "execute_result"
        }
      ],
      "source": [
        "jovian.commit(project=project_name)"
      ]
    },
    {
      "cell_type": "markdown",
      "id": "a2f9a72e",
      "metadata": {
        "id": "a2f9a72e"
      },
      "source": [
        "## Problem Statement\n",
        "\n",
        "\n",
        "> find the difference between the strings assigned to the variables s and t.here,only one letter will be extra in the t variable and find it. (past the problem statement here)(past the problem statement here)\n",
        "\n",
        "\n",
        "Source: leetcode (question:389)(link to the source)"
      ]
    },
    {
      "cell_type": "markdown",
      "id": "0b3512d3",
      "metadata": {
        "id": "0b3512d3"
      },
      "source": [
        "## The Method\n",
        "\n",
        "Here's the systematic strategy we'll apply for solving problems:\n",
        "\n",
        "1. State the problem clearly. Identify the input & output formats.\n",
        "2. Come up with some example inputs & outputs. Try to cover all edge cases.\n",
        "3. Come up with a correct solution for the problem. State it in plain English.\n",
        "4. Implement the solution and test it using example inputs. Fix bugs, if any.\n",
        "5. Analyze the algorithm's complexity and identify inefficiencies, if any.\n",
        "6. Apply the right technique to overcome the inefficiency. Repeat steps 3 to 6.\n",
        "\n",
        "This approach is explained in detail in [Lesson 1](https://jovian.ai/learn/data-structures-and-algorithms-in-python/lesson/lesson-1-binary-search-linked-lists-and-complexity) of the course. Let's apply this approach step-by-step."
      ]
    },
    {
      "cell_type": "markdown",
      "id": "d4d79352",
      "metadata": {
        "id": "d4d79352"
      },
      "source": [
        "## Solution\n",
        "\n",
        "\n",
        "### 1. State the problem clearly. Identify the input & output formats.\n",
        "\n",
        "While this problem is stated clearly enough, it's always useful to try and express in your own words, in a way that makes it most clear for you.\n",
        "\n",
        "\n",
        "**Problem**\n",
        "\n",
        "> ***1.as per the problem statement,we have to identify the extra element or letter in the string 't'(assigned variable).\n",
        "     2.only one element will be extra and the variable 's' should be compare with the variable 't'.\n",
        "     3.by using the methods such as ord function ,hash table and iteration the extra element should be find. * (express the          problem clearly in our own words, and in absract terms** (express the problem clearly in our own words, and in absract          terms\n",
        "\n",
        "<br/>\n",
        "\n",
        "\n",
        "**Input**\n",
        "\n",
        "1. **s = \"sdfg\"**\n",
        "2. **t = \"sdfgh\"**\n",
        "\n",
        "(add more if required)\n",
        "\n",
        "\n",
        "**Output**\n",
        "\n",
        "1. **'h'**\n",
        "\n",
        "\n",
        "(add more if required)\n",
        "\n",
        "<br/>\n",
        "\n",
        "Based on the above, we can now create a signature of our function:"
      ]
    },
    {
      "cell_type": "code",
      "execution_count": null,
      "id": "d6aff032",
      "metadata": {
        "id": "d6aff032"
      },
      "outputs": [],
      "source": [
        "def findTheDifference(s: str, t: str):\n",
        "    pass   # Create a function signature here. The body of the function can contain a single statement: pass"
      ]
    },
    {
      "cell_type": "markdown",
      "id": "bbfc7adf",
      "metadata": {
        "id": "bbfc7adf"
      },
      "source": []
    },
    {
      "cell_type": "code",
      "execution_count": null,
      "id": "bc831904",
      "metadata": {
        "id": "bc831904"
      },
      "outputs": [],
      "source": [
        "import jovian"
      ]
    },
    {
      "cell_type": "code",
      "execution_count": null,
      "id": "3d2fc859",
      "metadata": {
        "id": "3d2fc859",
        "outputId": "5209609d-7e5a-400a-93e6-bf556f046cbb"
      },
      "outputs": [
        {
          "data": {
            "application/javascript": [
              "window.require && require([\"base/js/namespace\"],function(Jupyter){Jupyter.notebook.save_checkpoint()})"
            ],
            "text/plain": [
              "<IPython.core.display.Javascript object>"
            ]
          },
          "metadata": {},
          "output_type": "display_data"
        },
        {
          "name": "stdout",
          "output_type": "stream",
          "text": [
            "[jovian] Attempting to save notebook..\u001b[0m\n"
          ]
        }
      ],
      "source": [
        "jovian.commit()"
      ]
    },
    {
      "cell_type": "markdown",
      "id": "07fcd7d0",
      "metadata": {
        "id": "07fcd7d0"
      },
      "source": [
        "### 2. Come up with some example inputs & outputs. Try to cover all edge cases.\n",
        "\n",
        "Our function should be able to handle any set of valid inputs we pass into it. Here's a list of some possible variations we might encounter:\n",
        "\n",
        "1. **in both the variables by comparing s and t ,having and extra element in t at the corner.**\n",
        "2. **in variable 's' contains no elements ,where as in variable 't' contains one element.**\n",
        "3. **in both the variables by comparing s and t ,having and extra element in t in the middle**\n",
        "4. **???**\n",
        "5. **???**\n",
        "\n",
        "(add more if required)\n",
        "\n",
        "\n",
        "We'll express our test cases as dictionaries, to test them easily. Each dictionary will contain 2 keys: `input` (a dictionary itself containing one key for each argument to the function and `output` (the expected result from the function)."
      ]
    },
    {
      "cell_type": "code",
      "execution_count": null,
      "id": "15169c8f",
      "metadata": {
        "id": "15169c8f"
      },
      "outputs": [],
      "source": [
        "test = {\n",
        "    'input': { \"s\":\"sdfg\",\"t\":\"sdfgh\"\n",
        "\n",
        "    },\n",
        "    'output': 'h'\n",
        "}\n"
      ]
    },
    {
      "cell_type": "markdown",
      "id": "3824f447",
      "metadata": {
        "id": "3824f447"
      },
      "source": [
        "Create one test case for each of the scenarios listed above. We'll store our test cases in an array called `tests`."
      ]
    },
    {
      "cell_type": "code",
      "execution_count": null,
      "id": "1ee5a8ea",
      "metadata": {
        "id": "1ee5a8ea"
      },
      "outputs": [],
      "source": [
        "tests = []"
      ]
    },
    {
      "cell_type": "code",
      "execution_count": null,
      "id": "ab725248",
      "metadata": {
        "id": "ab725248"
      },
      "outputs": [],
      "source": [
        "tests.append(test)"
      ]
    },
    {
      "cell_type": "code",
      "execution_count": null,
      "id": "ff283262",
      "metadata": {
        "id": "ff283262"
      },
      "outputs": [],
      "source": [
        "tests.append({\n",
        "    'input': {\n",
        "        \"s\":\" \",\"t\":\"r\"\n",
        "    },\n",
        "    'output': \"r\"\n",
        "})"
      ]
    },
    {
      "cell_type": "code",
      "execution_count": null,
      "id": "8b571dd6",
      "metadata": {
        "id": "8b571dd6"
      },
      "outputs": [],
      "source": [
        "tests.append({\n",
        "    'input': {\n",
        "        \"s\":\" santhu\",\"t\":\"santyhu\"\n",
        "    },\n",
        "    'output': \"y\"\n",
        "})"
      ]
    },
    {
      "cell_type": "code",
      "execution_count": null,
      "id": "f86676b9",
      "metadata": {
        "id": "f86676b9",
        "outputId": "2505fec7-ac7c-4d92-d45e-a9b91fa2925c"
      },
      "outputs": [
        {
          "data": {
            "text/plain": [
              "[{'input': {'s': ' ', 't': 'r'}, 'output': 'r'},\n",
              " {'input': {'s': ' santhu', 't': 'santyhu'}, 'output': 'y'},\n",
              " {'input': {'s': ' santhu', 't': 'santyhu'}, 'output': 'y'}]"
            ]
          },
          "execution_count": 6,
          "metadata": {},
          "output_type": "execute_result"
        }
      ],
      "source": [
        "tests"
      ]
    },
    {
      "cell_type": "code",
      "execution_count": null,
      "id": "59d5cdbc",
      "metadata": {
        "id": "59d5cdbc"
      },
      "outputs": [],
      "source": [
        "# add more test cases"
      ]
    },
    {
      "cell_type": "code",
      "execution_count": null,
      "id": "9bc7d4cc",
      "metadata": {
        "id": "9bc7d4cc"
      },
      "outputs": [],
      "source": []
    },
    {
      "cell_type": "markdown",
      "id": "3be6f8d6",
      "metadata": {
        "id": "3be6f8d6"
      },
      "source": [
        "### 3. Come up with a correct solution for the problem. State it in plain English.\n",
        "\n",
        "Our first goal should always be to come up with a _correct_ solution to the problem, which may not necessarily be the most _efficient_ solution. Come with a correct solution and explain it in simple words below:\n",
        "\n",
        "1. **here,using hashtable the strings are stored in the dictionaries**\n",
        "2. **in next step,enumerate the string of assigned variables s by iterating one by one**\n",
        "3. **now,enumerate the string of assigned variables t by iterating one by one**\n",
        "4. ** the elements and keys s and t which are assigned to the strings should found equal**\n",
        "5. **otherwise the extra element will be returned**\n",
        "\n",
        "(add more steps if renow,enumerate the string of assigned variables t by iterating one by onequired)\n",
        "\n",
        "\n",
        "Let's save and upload our work before continuing.\n",
        "\n",
        "\n"
      ]
    },
    {
      "cell_type": "code",
      "execution_count": null,
      "id": "327c93d8",
      "metadata": {
        "id": "327c93d8",
        "outputId": "a00a137d-0dba-440d-8e90-eba19e362aaa"
      },
      "outputs": [
        {
          "data": {
            "application/javascript": [
              "window.require && require([\"base/js/namespace\"],function(Jupyter){Jupyter.notebook.save_checkpoint()})"
            ],
            "text/plain": [
              "<IPython.core.display.Javascript object>"
            ]
          },
          "metadata": {},
          "output_type": "display_data"
        },
        {
          "name": "stdout",
          "output_type": "stream",
          "text": [
            "[jovian] Attempting to save notebook..\u001b[0m\n",
            "[jovian] Updating notebook \"aakashns/python-problem-solving-template\" on https://jovian.ai/\u001b[0m\n",
            "[jovian] Uploading notebook..\u001b[0m\n",
            "[jovian] Capturing environment..\u001b[0m\n",
            "[jovian] Committed successfully! https://jovian.ai/aakashns/python-problem-solving-template\u001b[0m\n"
          ]
        },
        {
          "data": {
            "text/plain": [
              "'https://jovian.ai/aakashns/python-problem-solving-template'"
            ]
          },
          "execution_count": 18,
          "metadata": {},
          "output_type": "execute_result"
        }
      ],
      "source": [
        "jovian.commit()"
      ]
    },
    {
      "cell_type": "markdown",
      "id": "06e9ebd9",
      "metadata": {
        "id": "06e9ebd9"
      },
      "source": [
        "###  4. Implement the solution and test it using example inputs. Fix bugs, if any."
      ]
    },
    {
      "cell_type": "code",
      "execution_count": null,
      "id": "e88852de",
      "metadata": {
        "id": "e88852de"
      },
      "outputs": [],
      "source": [
        " def findTheDifference(s: str, t: str):\n",
        "        hashMap1 = dict()\n",
        "        hashMap2 = dict()\n",
        "        for ndx, val in enumerate(s):\n",
        "            hashMap1[val] = hashMap1.get(val, 0) + 1\n",
        "\n",
        "        for ndx, val in enumerate(t):\n",
        "            hashMap2[val] = hashMap2.get(val, 0) + 1\n",
        "\n",
        "        for key, val in hashMap1.items() if len(hashMap1) > len(hashMap2) else hashMap2.items():\n",
        "            if hashMap1.get(key) != hashMap2.get(key):\n",
        "                return key"
      ]
    },
    {
      "cell_type": "code",
      "execution_count": null,
      "id": "d134afd0",
      "metadata": {
        "id": "d134afd0"
      },
      "outputs": [],
      "source": []
    },
    {
      "cell_type": "code",
      "execution_count": null,
      "id": "2706de3d",
      "metadata": {
        "id": "2706de3d"
      },
      "outputs": [],
      "source": []
    },
    {
      "cell_type": "code",
      "execution_count": null,
      "id": "7d3dc1cd",
      "metadata": {
        "id": "7d3dc1cd"
      },
      "outputs": [],
      "source": []
    },
    {
      "cell_type": "markdown",
      "id": "52ff60b5",
      "metadata": {
        "id": "52ff60b5"
      },
      "source": [
        "We can test the function by passing the input to it directly or by using the `evaluate_test_case` function from `jovian`."
      ]
    },
    {
      "cell_type": "code",
      "execution_count": null,
      "id": "67f8f7f3",
      "metadata": {
        "id": "67f8f7f3"
      },
      "outputs": [],
      "source": [
        "from jovian.pythondsa import evaluate_test_case"
      ]
    },
    {
      "cell_type": "code",
      "execution_count": null,
      "id": "52173221",
      "metadata": {
        "id": "52173221",
        "outputId": "daa7c5a8-7a24-4580-b28b-2f3237d34409"
      },
      "outputs": [
        {
          "name": "stdout",
          "output_type": "stream",
          "text": [
            "\n",
            "Input:\n",
            "{'s': 'sdfg', 't': 'sdfgh'}\n",
            "\n",
            "Expected Output:\n",
            "h\n",
            "\n",
            "\n",
            "Actual Output:\n",
            "h\n",
            "\n",
            "Execution Time:\n",
            "0.012 ms\n",
            "\n",
            "Test Result:\n",
            "\u001b[92mPASSED\u001b[0m\n",
            "\n"
          ]
        },
        {
          "data": {
            "text/plain": [
              "('h', True, 0.012)"
            ]
          },
          "execution_count": 10,
          "metadata": {},
          "output_type": "execute_result"
        }
      ],
      "source": [
        "\n",
        "evaluate_test_case(findTheDifference,test)"
      ]
    },
    {
      "cell_type": "markdown",
      "id": "53d0d426",
      "metadata": {
        "id": "53d0d426"
      },
      "source": [
        "Evaluate your function against all the test cases together using the `evaluate_test_cases` (plural) function from `jovian`."
      ]
    },
    {
      "cell_type": "code",
      "execution_count": null,
      "id": "28783f07",
      "metadata": {
        "id": "28783f07"
      },
      "outputs": [],
      "source": [
        "from jovian.pythondsa import evaluate_test_cases"
      ]
    },
    {
      "cell_type": "code",
      "execution_count": null,
      "id": "91479f76",
      "metadata": {
        "id": "91479f76",
        "outputId": "dc8f082b-c4eb-49a5-b877-c460a1e7a247"
      },
      "outputs": [
        {
          "name": "stdout",
          "output_type": "stream",
          "text": [
            "\n",
            "\u001b[1mTEST CASE #0\u001b[0m\n",
            "\n",
            "Input:\n",
            "{'s': ' ', 't': 'r'}\n",
            "\n",
            "Expected Output:\n",
            "r\n",
            "\n",
            "\n",
            "Actual Output:\n",
            "r\n",
            "\n",
            "Execution Time:\n",
            "0.007 ms\n",
            "\n",
            "Test Result:\n",
            "\u001b[92mPASSED\u001b[0m\n",
            "\n",
            "\n",
            "\u001b[1mTEST CASE #1\u001b[0m\n",
            "\n",
            "Input:\n",
            "{'s': ' santhu', 't': 'santyhu'}\n",
            "\n",
            "Expected Output:\n",
            "y\n",
            "\n",
            "\n",
            "Actual Output:\n",
            "y\n",
            "\n",
            "Execution Time:\n",
            "0.01 ms\n",
            "\n",
            "Test Result:\n",
            "\u001b[92mPASSED\u001b[0m\n",
            "\n",
            "\n",
            "\u001b[1mTEST CASE #2\u001b[0m\n",
            "\n",
            "Input:\n",
            "{'s': ' santhu', 't': 'santyhu'}\n",
            "\n",
            "Expected Output:\n",
            "y\n",
            "\n",
            "\n",
            "Actual Output:\n",
            "y\n",
            "\n",
            "Execution Time:\n",
            "0.009 ms\n",
            "\n",
            "Test Result:\n",
            "\u001b[92mPASSED\u001b[0m\n",
            "\n",
            "\n",
            "\u001b[1mSUMMARY\u001b[0m\n",
            "\n",
            "TOTAL: 3, \u001b[92mPASSED\u001b[0m: 3, \u001b[91mFAILED\u001b[0m: 0\n"
          ]
        },
        {
          "data": {
            "text/plain": [
              "[('r', True, 0.007), ('y', True, 0.01), ('y', True, 0.009)]"
            ]
          },
          "execution_count": 12,
          "metadata": {},
          "output_type": "execute_result"
        }
      ],
      "source": [
        "evaluate_test_cases(findTheDifference,tests)"
      ]
    },
    {
      "cell_type": "markdown",
      "id": "bf5dfdd2",
      "metadata": {
        "id": "bf5dfdd2"
      },
      "source": [
        "Verify that all the test cases were evaluated. We expect them all to fail, since we haven't implemented the function yet.\n",
        "\n",
        "Let's save our work before continuing."
      ]
    },
    {
      "cell_type": "code",
      "execution_count": null,
      "id": "43ca2005",
      "metadata": {
        "id": "43ca2005",
        "outputId": "a0a7a7d7-8d71-4c12-e5f6-cc3d0e33c4a1"
      },
      "outputs": [
        {
          "data": {
            "application/javascript": [
              "window.require && require([\"base/js/namespace\"],function(Jupyter){Jupyter.notebook.save_checkpoint()})"
            ],
            "text/plain": [
              "<IPython.core.display.Javascript object>"
            ]
          },
          "metadata": {},
          "output_type": "display_data"
        },
        {
          "name": "stdout",
          "output_type": "stream",
          "text": [
            "[jovian] Attempting to save notebook..\u001b[0m\n",
            "[jovian] Updating notebook \"aakashns/python-problem-solving-template\" on https://jovian.ai/\u001b[0m\n",
            "[jovian] Uploading notebook..\u001b[0m\n",
            "[jovian] Capturing environment..\u001b[0m\n",
            "[jovian] Committed successfully! https://jovian.ai/aakashns/python-problem-solving-template\u001b[0m\n"
          ]
        },
        {
          "data": {
            "text/plain": [
              "'https://jovian.ai/aakashns/python-problem-solving-template'"
            ]
          },
          "execution_count": 17,
          "metadata": {},
          "output_type": "execute_result"
        }
      ],
      "source": [
        "jovian.commit()"
      ]
    },
    {
      "cell_type": "code",
      "execution_count": null,
      "id": "09883dd8",
      "metadata": {
        "id": "09883dd8"
      },
      "outputs": [],
      "source": []
    },
    {
      "cell_type": "markdown",
      "id": "c179cbde",
      "metadata": {
        "id": "c179cbde"
      },
      "source": [
        "### 5. Analyze the algorithm's complexity and identify inefficiencies, if any.\n",
        "Time complexity: O(n) explaination: here,n is the length of the longer string between s and t. because, the code iterates through both strings once to count the frequency of characters and store them in dictionaries\n",
        "\n",
        "Space compexity: O(n) explaination: here,n is the length of the longer string between s and t.because, the code creates two dictionaries, hashMap1 and hashMap2, to store the frequency of characters in s and t. The space required by these dictionaries is proportional to the number of unique characters in s and t, which can be at most equal to n."
      ]
    },
    {
      "cell_type": "code",
      "execution_count": null,
      "id": "76d6f7b2",
      "metadata": {
        "id": "76d6f7b2"
      },
      "outputs": [],
      "source": []
    },
    {
      "cell_type": "code",
      "execution_count": null,
      "id": "69418aa5",
      "metadata": {
        "id": "69418aa5"
      },
      "outputs": [],
      "source": []
    },
    {
      "cell_type": "code",
      "execution_count": null,
      "id": "29fe530a",
      "metadata": {
        "id": "29fe530a"
      },
      "outputs": [],
      "source": []
    },
    {
      "cell_type": "code",
      "execution_count": null,
      "id": "a7d30bad",
      "metadata": {
        "id": "a7d30bad",
        "outputId": "019281b0-3bfd-451a-d1f1-7e46bd28d2a4"
      },
      "outputs": [
        {
          "data": {
            "application/javascript": [
              "window.require && require([\"base/js/namespace\"],function(Jupyter){Jupyter.notebook.save_checkpoint()})"
            ],
            "text/plain": [
              "<IPython.core.display.Javascript object>"
            ]
          },
          "metadata": {},
          "output_type": "display_data"
        },
        {
          "name": "stdout",
          "output_type": "stream",
          "text": [
            "[jovian] Attempting to save notebook..\u001b[0m\n",
            "[jovian] Updating notebook \"aakashns/python-problem-solving-template\" on https://jovian.ai/\u001b[0m\n",
            "[jovian] Uploading notebook..\u001b[0m\n",
            "[jovian] Capturing environment..\u001b[0m\n",
            "[jovian] Committed successfully! https://jovian.ai/aakashns/python-problem-solving-template\u001b[0m\n"
          ]
        },
        {
          "data": {
            "text/plain": [
              "'https://jovian.ai/aakashns/python-problem-solving-template'"
            ]
          },
          "execution_count": 21,
          "metadata": {},
          "output_type": "execute_result"
        }
      ],
      "source": [
        "jovian.commit()"
      ]
    },
    {
      "cell_type": "markdown",
      "id": "f142f40a",
      "metadata": {
        "id": "f142f40a"
      },
      "source": [
        "### 6. Apply the right technique to overcome the inefficiency. Repeat steps 3 to 6.\n",
        "the code may have some inefficiencies due to enumerates and dictionaries comparision\n",
        " 1.enumerate() is used to get the index and value of each character in the strings s and t. However, the index is not used in      the code, so using enumerate() is unnecessary and adds some overhead.\n",
        " 2.len(hashMap1) > len(hashMap2) uses ,as a condition to determine which dictionary to iterate over in the final loop. even        though, this comparison is redundant because both dictionaries contain the same characters as keys, so the length of the        dictionaries will always be the same."
      ]
    },
    {
      "cell_type": "code",
      "execution_count": null,
      "id": "200fa5e5",
      "metadata": {
        "id": "200fa5e5"
      },
      "outputs": [],
      "source": []
    },
    {
      "cell_type": "code",
      "execution_count": null,
      "id": "145a2527",
      "metadata": {
        "id": "145a2527",
        "outputId": "71df872c-696d-4a80-e085-7d96c71ae2d6"
      },
      "outputs": [
        {
          "data": {
            "application/javascript": [
              "window.require && require([\"base/js/namespace\"],function(Jupyter){Jupyter.notebook.save_checkpoint()})"
            ],
            "text/plain": [
              "<IPython.core.display.Javascript object>"
            ]
          },
          "metadata": {},
          "output_type": "display_data"
        },
        {
          "name": "stdout",
          "output_type": "stream",
          "text": [
            "[jovian] Attempting to save notebook..\u001b[0m\n",
            "[jovian] Updating notebook \"aakashns/python-problem-solving-template\" on https://jovian.ai/\u001b[0m\n",
            "[jovian] Uploading notebook..\u001b[0m\n",
            "[jovian] Capturing environment..\u001b[0m\n",
            "[jovian] Committed successfully! https://jovian.ai/aakashns/python-problem-solving-template\u001b[0m\n"
          ]
        },
        {
          "data": {
            "text/plain": [
              "'https://jovian.ai/aakashns/python-problem-solving-template'"
            ]
          },
          "execution_count": 20,
          "metadata": {},
          "output_type": "execute_result"
        }
      ],
      "source": [
        "jovian.commit()"
      ]
    },
    {
      "cell_type": "markdown",
      "id": "2ed2bab8",
      "metadata": {
        "id": "2ed2bab8"
      },
      "source": [
        "### 7. Come up with a correct solution for the problem. State it in plain English.\n",
        "\n",
        "Come with the optimized correct solution and explain it in simple words below:\n",
        "\n",
        "1. **in this a common dictionary is provided to both the variables s and t.**\n",
        "2. **initially,using for loop and if and else statements ,the charaters will be added **\n",
        "3. **the characters will be added one by one into the dictionary**\n",
        "4. **same as previous loop the characters should be their in variable t by not equal to 0 and no extra element**\n",
        "5. **if an extra element presents,then it returns.**\n",
        "\n",
        "(add more steps if required)\n",
        "\n",
        "\n",
        "Let's save and upload our work before continuing.\n",
        "\n"
      ]
    },
    {
      "cell_type": "code",
      "execution_count": null,
      "id": "b51df69b",
      "metadata": {
        "id": "b51df69b",
        "outputId": "75a82866-0798-446c-f3f1-340d78413c13"
      },
      "outputs": [
        {
          "data": {
            "application/javascript": [
              "window.require && require([\"base/js/namespace\"],function(Jupyter){Jupyter.notebook.save_checkpoint()})"
            ],
            "text/plain": [
              "<IPython.core.display.Javascript object>"
            ]
          },
          "metadata": {},
          "output_type": "display_data"
        },
        {
          "name": "stdout",
          "output_type": "stream",
          "text": [
            "[jovian] Attempting to save notebook..\u001b[0m\n",
            "[jovian] Updating notebook \"aakashns/python-problem-solving-template\" on https://jovian.ai/\u001b[0m\n",
            "[jovian] Uploading notebook..\u001b[0m\n",
            "[jovian] Capturing environment..\u001b[0m\n",
            "[jovian] Committed successfully! https://jovian.ai/aakashns/python-problem-solving-template\u001b[0m\n"
          ]
        },
        {
          "data": {
            "text/plain": [
              "'https://jovian.ai/aakashns/python-problem-solving-template'"
            ]
          },
          "execution_count": 19,
          "metadata": {},
          "output_type": "execute_result"
        }
      ],
      "source": [
        "jovian.commit()"
      ]
    },
    {
      "cell_type": "code",
      "execution_count": null,
      "id": "d0bb5fbe",
      "metadata": {
        "id": "d0bb5fbe"
      },
      "outputs": [],
      "source": []
    },
    {
      "cell_type": "code",
      "execution_count": null,
      "id": "db16266b",
      "metadata": {
        "id": "db16266b"
      },
      "outputs": [],
      "source": []
    },
    {
      "cell_type": "code",
      "execution_count": null,
      "id": "5fc292b1",
      "metadata": {
        "id": "5fc292b1"
      },
      "outputs": [],
      "source": []
    },
    {
      "cell_type": "markdown",
      "id": "3b3093e9",
      "metadata": {
        "id": "3b3093e9"
      },
      "source": [
        "### 8. Implement the solution and test it using example inputs. Fix bugs, if any."
      ]
    },
    {
      "cell_type": "code",
      "execution_count": null,
      "id": "7e5ef76d",
      "metadata": {
        "id": "7e5ef76d"
      },
      "outputs": [],
      "source": [
        "def find_Difference(s: str, t: str):\n",
        "    freq = {}\n",
        "    for char in s:\n",
        "        if char not in freq:\n",
        "            freq[char] = 1\n",
        "        else:\n",
        "            freq[char] += 1\n",
        "\n",
        "    for char in t:\n",
        "        if char not in freq or freq[char] == 0:\n",
        "            return char\n",
        "        else:\n",
        "            freq[char] -= 1"
      ]
    },
    {
      "cell_type": "code",
      "execution_count": null,
      "id": "d7ff5f3b",
      "metadata": {
        "id": "d7ff5f3b",
        "outputId": "a4913c3b-ad17-408b-8164-dd161e0c914d"
      },
      "outputs": [
        {
          "name": "stdout",
          "output_type": "stream",
          "text": [
            "\n",
            "Input:\n",
            "{'s': 'sdfg', 't': 'sdfgh'}\n",
            "\n",
            "Expected Output:\n",
            "h\n",
            "\n",
            "\n",
            "Actual Output:\n",
            "h\n",
            "\n",
            "Execution Time:\n",
            "0.006 ms\n",
            "\n",
            "Test Result:\n",
            "\u001b[92mPASSED\u001b[0m\n",
            "\n"
          ]
        },
        {
          "data": {
            "text/plain": [
              "('h', True, 0.006)"
            ]
          },
          "execution_count": 14,
          "metadata": {},
          "output_type": "execute_result"
        }
      ],
      "source": [
        "evaluate_test_case(find_Difference,test)"
      ]
    },
    {
      "cell_type": "code",
      "execution_count": null,
      "id": "a3e57bd0",
      "metadata": {
        "id": "a3e57bd0",
        "outputId": "7da7ce53-7307-4b09-c10f-117f6eb76aa5"
      },
      "outputs": [
        {
          "name": "stdout",
          "output_type": "stream",
          "text": [
            "\n",
            "\u001b[1mTEST CASE #0\u001b[0m\n",
            "\n",
            "Input:\n",
            "{'s': ' ', 't': 'r'}\n",
            "\n",
            "Expected Output:\n",
            "r\n",
            "\n",
            "\n",
            "Actual Output:\n",
            "r\n",
            "\n",
            "Execution Time:\n",
            "0.005 ms\n",
            "\n",
            "Test Result:\n",
            "\u001b[92mPASSED\u001b[0m\n",
            "\n",
            "\n",
            "\u001b[1mTEST CASE #1\u001b[0m\n",
            "\n",
            "Input:\n",
            "{'s': ' santhu', 't': 'santyhu'}\n",
            "\n",
            "Expected Output:\n",
            "y\n",
            "\n",
            "\n",
            "Actual Output:\n",
            "y\n",
            "\n",
            "Execution Time:\n",
            "0.007 ms\n",
            "\n",
            "Test Result:\n",
            "\u001b[92mPASSED\u001b[0m\n",
            "\n",
            "\n",
            "\u001b[1mTEST CASE #2\u001b[0m\n",
            "\n",
            "Input:\n",
            "{'s': ' santhu', 't': 'santyhu'}\n",
            "\n",
            "Expected Output:\n",
            "y\n",
            "\n",
            "\n",
            "Actual Output:\n",
            "y\n",
            "\n",
            "Execution Time:\n",
            "0.005 ms\n",
            "\n",
            "Test Result:\n",
            "\u001b[92mPASSED\u001b[0m\n",
            "\n",
            "\n",
            "\u001b[1mSUMMARY\u001b[0m\n",
            "\n",
            "TOTAL: 3, \u001b[92mPASSED\u001b[0m: 3, \u001b[91mFAILED\u001b[0m: 0\n"
          ]
        },
        {
          "data": {
            "text/plain": [
              "[('r', True, 0.005), ('y', True, 0.007), ('y', True, 0.005)]"
            ]
          },
          "execution_count": 15,
          "metadata": {},
          "output_type": "execute_result"
        }
      ],
      "source": [
        "evaluate_test_cases(find_Difference,tests)"
      ]
    },
    {
      "cell_type": "code",
      "execution_count": null,
      "id": "0b413549",
      "metadata": {
        "id": "0b413549"
      },
      "outputs": [],
      "source": []
    },
    {
      "cell_type": "markdown",
      "id": "e472b4c5",
      "metadata": {
        "id": "e472b4c5"
      },
      "source": [
        "### 9. Analyze the algorithm's complexity and identify inefficiencies, if any.\\\n",
        "Time complexity: The time complexity of this code is O(n). Here, n is the length of the longer string between s and t. The code iterates through both strings once to count the frequency of characters and store them in the freq dictionary.\n",
        "\n",
        "Space complexity: The space complexity of this code is O(n). Here n is the length of the longer string between s and t. The code creates a dictionary freq to store the frequency of characters in s. The space required by this dictionary is proportional to the number of unique characters in s, which can be at most equal to n.\n",
        "\n",
        "Inefficiencies: the code is much more efficient compared to the previous implementation. It removes the unnecessary use of enumerate() and the redundant length comparison. The code also simplifies the logic by directly checking if a character exists in the freq dictionary and if its count is zero. If it meets these conditions, it returns the character as the added character."
      ]
    },
    {
      "cell_type": "code",
      "execution_count": null,
      "id": "2882abe3",
      "metadata": {
        "id": "2882abe3"
      },
      "outputs": [],
      "source": []
    },
    {
      "cell_type": "code",
      "execution_count": null,
      "id": "19e02a3d",
      "metadata": {
        "id": "19e02a3d"
      },
      "outputs": [],
      "source": []
    },
    {
      "cell_type": "markdown",
      "id": "733205c8",
      "metadata": {
        "id": "733205c8"
      },
      "source": [
        "If you found the problem on an external platform, you can make a submission to test your solution.\n",
        "\n",
        "Share your approach and start a discussion on the Jovian forum: https://jovian.ai/forum/c/data-structures-and-algorithms-in-python/78"
      ]
    },
    {
      "cell_type": "code",
      "execution_count": null,
      "id": "2bdf38c4",
      "metadata": {
        "id": "2bdf38c4",
        "outputId": "3754ab65-739a-4d58-cf6e-0facab549403"
      },
      "outputs": [
        {
          "data": {
            "application/javascript": [
              "window.require && require([\"base/js/namespace\"],function(Jupyter){Jupyter.notebook.save_checkpoint()})"
            ],
            "text/plain": [
              "<IPython.core.display.Javascript object>"
            ]
          },
          "metadata": {},
          "output_type": "display_data"
        },
        {
          "name": "stdout",
          "output_type": "stream",
          "text": [
            "[jovian] Attempting to save notebook..\u001b[0m\n"
          ]
        }
      ],
      "source": [
        "jovian.commit()"
      ]
    },
    {
      "cell_type": "code",
      "execution_count": null,
      "id": "8af5d9de",
      "metadata": {
        "id": "8af5d9de"
      },
      "outputs": [],
      "source": []
    }
  ],
  "metadata": {
    "kernelspec": {
      "display_name": "Python 3 (ipykernel)",
      "language": "python",
      "name": "python3"
    },
    "language_info": {
      "codemirror_mode": {
        "name": "ipython",
        "version": 3
      },
      "file_extension": ".py",
      "mimetype": "text/x-python",
      "name": "python",
      "nbconvert_exporter": "python",
      "pygments_lexer": "ipython3",
      "version": "3.9.7"
    },
    "colab": {
      "provenance": [],
      "include_colab_link": true
    }
  },
  "nbformat": 4,
  "nbformat_minor": 5
}